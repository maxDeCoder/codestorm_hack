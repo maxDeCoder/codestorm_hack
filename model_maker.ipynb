{
 "cells": [
  {
   "cell_type": "code",
   "execution_count": 76,
   "source": [
    "import nltk\r\n",
    "from nltk.stem import WordNetLemmatizer\r\n",
    "import numpy as np\r\n",
    "import json\r\n",
    "import random\r\n",
    "import pickle"
   ],
   "outputs": [],
   "metadata": {}
  },
  {
   "cell_type": "code",
   "execution_count": 77,
   "source": [
    "intents = json.load(open(\"intents.json\"))"
   ],
   "outputs": [],
   "metadata": {}
  },
  {
   "cell_type": "code",
   "execution_count": 3,
   "source": [
    "words = []\r\n",
    "classes = []\r\n",
    "docs = []\r\n",
    "ignore_tokens = ['?', '!', '.', ',']"
   ],
   "outputs": [],
   "metadata": {}
  },
  {
   "cell_type": "code",
   "execution_count": 4,
   "source": [
    "for intent in intents[\"intents\"]:\r\n",
    "    for pattern in intent[\"patterns\"]:\r\n",
    "        word_list = nltk.word_tokenize(pattern)\r\n",
    "        words.extend(word_list)\r\n",
    "        docs.append((word_list, intent[\"tag\"]))\r\n",
    "        if intent[\"tag\"] not in classes:\r\n",
    "            classes.append(intent[\"tag\"])"
   ],
   "outputs": [],
   "metadata": {}
  },
  {
   "cell_type": "code",
   "execution_count": 8,
   "source": [
    "lematizer = WordNetLemmatizer()"
   ],
   "outputs": [],
   "metadata": {}
  },
  {
   "cell_type": "code",
   "execution_count": 6,
   "source": [
    "words = [lematizer.lemmatize(word.lower()) for word in words if word not in ignore_tokens]"
   ],
   "outputs": [],
   "metadata": {}
  },
  {
   "cell_type": "code",
   "execution_count": 7,
   "source": [
    "words = sorted(set(words))"
   ],
   "outputs": [],
   "metadata": {}
  },
  {
   "cell_type": "code",
   "execution_count": 8,
   "source": [
    "pickle.dump(words, open(\"words.pkl\", \"wb\"))\r\n",
    "pickle.dump(classes, open(\"classes.pkl\", \"wb\"))"
   ],
   "outputs": [],
   "metadata": {}
  },
  {
   "cell_type": "code",
   "execution_count": 9,
   "source": [
    "training = []\r\n",
    "output_empty = [0] * len(classes)"
   ],
   "outputs": [],
   "metadata": {}
  },
  {
   "cell_type": "code",
   "execution_count": 10,
   "source": [
    "for doc in docs:\r\n",
    "    bag = []\r\n",
    "    word_patters = doc[0]\r\n",
    "    word_patters = [lematizer.lemmatize(word.lower()) for word in word_patters]\r\n",
    "    for word in words:\r\n",
    "        bag.append(1) if word in word_patters else bag.append(0)\r\n",
    "    \r\n",
    "    output_row = list(output_empty)\r\n",
    "    output_row[classes.index(doc[1])] = 1\r\n",
    "    training.append([bag, output_row])"
   ],
   "outputs": [],
   "metadata": {}
  },
  {
   "cell_type": "code",
   "execution_count": 11,
   "source": [
    "random.shuffle(training)\r\n",
    "training = np.array(training)"
   ],
   "outputs": [
    {
     "output_type": "stream",
     "name": "stderr",
     "text": [
      "C:\\Users\\vedan\\AppData\\Local\\Temp/ipykernel_18592/2739997722.py:2: VisibleDeprecationWarning: Creating an ndarray from ragged nested sequences (which is a list-or-tuple of lists-or-tuples-or ndarrays with different lengths or shapes) is deprecated. If you meant to do this, you must specify 'dtype=object' when creating the ndarray\n",
      "  training = np.array(training)\n"
     ]
    }
   ],
   "metadata": {}
  },
  {
   "cell_type": "code",
   "execution_count": 12,
   "source": [
    "train_x = np.array(list(training[:, 0]))\r\n",
    "train_y = np.array(list(training[:, 1]))"
   ],
   "outputs": [],
   "metadata": {}
  },
  {
   "cell_type": "code",
   "execution_count": 78,
   "source": [
    "from tensorflow import keras\r\n",
    "from tensorflow.keras.models import Sequential\r\n",
    "from tensorflow.keras import layers"
   ],
   "outputs": [],
   "metadata": {}
  },
  {
   "cell_type": "code",
   "execution_count": 14,
   "source": [
    "model = Sequential([\r\n",
    "    layers.Dense(128, input_shape=(len(train_x[0]), ), activation=\"relu\"),\r\n",
    "    layers.Dropout(0.5),\r\n",
    "    layers.Dense(64, activation='relu'),\r\n",
    "    layers.Dense(len(train_y[0]), activation=\"softmax\")\r\n",
    "])\r\n",
    "model.compile(\r\n",
    "    optimizer=\"adam\",\r\n",
    "    loss=\"categorical_crossentropy\",\r\n",
    "    metrics=[\"acc\"]\r\n",
    ")"
   ],
   "outputs": [],
   "metadata": {}
  },
  {
   "cell_type": "code",
   "execution_count": 15,
   "source": [
    "model.summary()"
   ],
   "outputs": [
    {
     "output_type": "stream",
     "name": "stdout",
     "text": [
      "Model: \"sequential\"\n",
      "_________________________________________________________________\n",
      "Layer (type)                 Output Shape              Param #   \n",
      "=================================================================\n",
      "dense (Dense)                (None, 128)               5888      \n",
      "_________________________________________________________________\n",
      "dropout (Dropout)            (None, 128)               0         \n",
      "_________________________________________________________________\n",
      "dense_1 (Dense)              (None, 64)                8256      \n",
      "_________________________________________________________________\n",
      "dense_2 (Dense)              (None, 5)                 325       \n",
      "=================================================================\n",
      "Total params: 14,469\n",
      "Trainable params: 14,469\n",
      "Non-trainable params: 0\n",
      "_________________________________________________________________\n"
     ]
    }
   ],
   "metadata": {}
  },
  {
   "cell_type": "code",
   "execution_count": 16,
   "source": [
    "model.fit(train_x, train_y, epochs=100)"
   ],
   "outputs": [
    {
     "output_type": "stream",
     "name": "stdout",
     "text": [
      "Epoch 1/100\n",
      "1/1 [==============================] - 2s 2s/step - loss: 1.6396 - acc: 0.1905\n",
      "Epoch 2/100\n",
      "1/1 [==============================] - 0s 5ms/step - loss: 1.6334 - acc: 0.1429\n",
      "Epoch 3/100\n",
      "1/1 [==============================] - 0s 6ms/step - loss: 1.6279 - acc: 0.2381\n",
      "Epoch 4/100\n",
      "1/1 [==============================] - 0s 5ms/step - loss: 1.5772 - acc: 0.1905\n",
      "Epoch 5/100\n",
      "1/1 [==============================] - 0s 7ms/step - loss: 1.5967 - acc: 0.1429\n",
      "Epoch 6/100\n",
      "1/1 [==============================] - 0s 4ms/step - loss: 1.5519 - acc: 0.3810\n",
      "Epoch 7/100\n",
      "1/1 [==============================] - 0s 6ms/step - loss: 1.5247 - acc: 0.4762\n",
      "Epoch 8/100\n",
      "1/1 [==============================] - 0s 5ms/step - loss: 1.5434 - acc: 0.3333\n",
      "Epoch 9/100\n",
      "1/1 [==============================] - 0s 5ms/step - loss: 1.5022 - acc: 0.2857\n",
      "Epoch 10/100\n",
      "1/1 [==============================] - 0s 5ms/step - loss: 1.5059 - acc: 0.4286\n",
      "Epoch 11/100\n",
      "1/1 [==============================] - 0s 4ms/step - loss: 1.4826 - acc: 0.4762\n",
      "Epoch 12/100\n",
      "1/1 [==============================] - 0s 6ms/step - loss: 1.4984 - acc: 0.5238\n",
      "Epoch 13/100\n",
      "1/1 [==============================] - 0s 6ms/step - loss: 1.4478 - acc: 0.5714\n",
      "Epoch 14/100\n",
      "1/1 [==============================] - 0s 6ms/step - loss: 1.4559 - acc: 0.5238\n",
      "Epoch 15/100\n",
      "1/1 [==============================] - 0s 5ms/step - loss: 1.3996 - acc: 0.5714\n",
      "Epoch 16/100\n",
      "1/1 [==============================] - 0s 6ms/step - loss: 1.4003 - acc: 0.6667\n",
      "Epoch 17/100\n",
      "1/1 [==============================] - 0s 6ms/step - loss: 1.4145 - acc: 0.4762\n",
      "Epoch 18/100\n",
      "1/1 [==============================] - 0s 5ms/step - loss: 1.4354 - acc: 0.5238\n",
      "Epoch 19/100\n",
      "1/1 [==============================] - 0s 5ms/step - loss: 1.3670 - acc: 0.8095\n",
      "Epoch 20/100\n",
      "1/1 [==============================] - 0s 7ms/step - loss: 1.4070 - acc: 0.7143\n",
      "Epoch 21/100\n",
      "1/1 [==============================] - 0s 5ms/step - loss: 1.3239 - acc: 0.8571\n",
      "Epoch 22/100\n",
      "1/1 [==============================] - 0s 4ms/step - loss: 1.3671 - acc: 0.8095\n",
      "Epoch 23/100\n",
      "1/1 [==============================] - 0s 5ms/step - loss: 1.3180 - acc: 0.8095\n",
      "Epoch 24/100\n",
      "1/1 [==============================] - 0s 6ms/step - loss: 1.2919 - acc: 0.8095\n",
      "Epoch 25/100\n",
      "1/1 [==============================] - 0s 5ms/step - loss: 1.3249 - acc: 0.8095\n",
      "Epoch 26/100\n",
      "1/1 [==============================] - 0s 4ms/step - loss: 1.3126 - acc: 0.7619\n",
      "Epoch 27/100\n",
      "1/1 [==============================] - 0s 4ms/step - loss: 1.2032 - acc: 0.8571\n",
      "Epoch 28/100\n",
      "1/1 [==============================] - 0s 5ms/step - loss: 1.1592 - acc: 0.9524\n",
      "Epoch 29/100\n",
      "1/1 [==============================] - 0s 5ms/step - loss: 1.1832 - acc: 0.8095\n",
      "Epoch 30/100\n",
      "1/1 [==============================] - 0s 6ms/step - loss: 1.2012 - acc: 0.9048\n",
      "Epoch 31/100\n",
      "1/1 [==============================] - 0s 5ms/step - loss: 1.1307 - acc: 0.9048\n",
      "Epoch 32/100\n",
      "1/1 [==============================] - 0s 5ms/step - loss: 1.1008 - acc: 0.9524\n",
      "Epoch 33/100\n",
      "1/1 [==============================] - 0s 4ms/step - loss: 1.0916 - acc: 1.0000\n",
      "Epoch 34/100\n",
      "1/1 [==============================] - 0s 6ms/step - loss: 1.1523 - acc: 0.9048\n",
      "Epoch 35/100\n",
      "1/1 [==============================] - 0s 5ms/step - loss: 1.0494 - acc: 0.9048\n",
      "Epoch 36/100\n",
      "1/1 [==============================] - 0s 5ms/step - loss: 1.0360 - acc: 0.9048\n",
      "Epoch 37/100\n",
      "1/1 [==============================] - 0s 6ms/step - loss: 1.0672 - acc: 1.0000\n",
      "Epoch 38/100\n",
      "1/1 [==============================] - 0s 6ms/step - loss: 0.9488 - acc: 1.0000\n",
      "Epoch 39/100\n",
      "1/1 [==============================] - 0s 6ms/step - loss: 0.9946 - acc: 0.9524\n",
      "Epoch 40/100\n",
      "1/1 [==============================] - 0s 6ms/step - loss: 1.0144 - acc: 0.9048\n",
      "Epoch 41/100\n",
      "1/1 [==============================] - 0s 6ms/step - loss: 0.9731 - acc: 0.9524\n",
      "Epoch 42/100\n",
      "1/1 [==============================] - 0s 6ms/step - loss: 0.9422 - acc: 1.0000\n",
      "Epoch 43/100\n",
      "1/1 [==============================] - 0s 6ms/step - loss: 0.9288 - acc: 0.9048\n",
      "Epoch 44/100\n",
      "1/1 [==============================] - 0s 7ms/step - loss: 0.9658 - acc: 0.9048\n",
      "Epoch 45/100\n",
      "1/1 [==============================] - 0s 4ms/step - loss: 0.8597 - acc: 1.0000\n",
      "Epoch 46/100\n",
      "1/1 [==============================] - 0s 5ms/step - loss: 0.8603 - acc: 1.0000\n",
      "Epoch 47/100\n",
      "1/1 [==============================] - 0s 5ms/step - loss: 0.9170 - acc: 0.9524\n",
      "Epoch 48/100\n",
      "1/1 [==============================] - 0s 6ms/step - loss: 0.8113 - acc: 1.0000\n",
      "Epoch 49/100\n",
      "1/1 [==============================] - 0s 6ms/step - loss: 0.8486 - acc: 0.9524\n",
      "Epoch 50/100\n",
      "1/1 [==============================] - 0s 5ms/step - loss: 0.8178 - acc: 0.9524\n",
      "Epoch 51/100\n",
      "1/1 [==============================] - 0s 6ms/step - loss: 0.8323 - acc: 0.9524\n",
      "Epoch 52/100\n",
      "1/1 [==============================] - 0s 5ms/step - loss: 0.7971 - acc: 1.0000\n",
      "Epoch 53/100\n",
      "1/1 [==============================] - 0s 5ms/step - loss: 0.7578 - acc: 1.0000\n",
      "Epoch 54/100\n",
      "1/1 [==============================] - 0s 5ms/step - loss: 0.6884 - acc: 1.0000\n",
      "Epoch 55/100\n",
      "1/1 [==============================] - 0s 6ms/step - loss: 0.6499 - acc: 1.0000\n",
      "Epoch 56/100\n",
      "1/1 [==============================] - 0s 5ms/step - loss: 0.6853 - acc: 0.9524\n",
      "Epoch 57/100\n",
      "1/1 [==============================] - 0s 7ms/step - loss: 0.6449 - acc: 0.9524\n",
      "Epoch 58/100\n",
      "1/1 [==============================] - 0s 6ms/step - loss: 0.6338 - acc: 1.0000\n",
      "Epoch 59/100\n",
      "1/1 [==============================] - 0s 6ms/step - loss: 0.6234 - acc: 1.0000\n",
      "Epoch 60/100\n",
      "1/1 [==============================] - 0s 6ms/step - loss: 0.6091 - acc: 1.0000\n",
      "Epoch 61/100\n",
      "1/1 [==============================] - 0s 6ms/step - loss: 0.6256 - acc: 1.0000\n",
      "Epoch 62/100\n",
      "1/1 [==============================] - 0s 5ms/step - loss: 0.5461 - acc: 1.0000\n",
      "Epoch 63/100\n",
      "1/1 [==============================] - 0s 5ms/step - loss: 0.5661 - acc: 1.0000\n",
      "Epoch 64/100\n",
      "1/1 [==============================] - 0s 6ms/step - loss: 0.5070 - acc: 1.0000\n",
      "Epoch 65/100\n",
      "1/1 [==============================] - 0s 7ms/step - loss: 0.5457 - acc: 1.0000\n",
      "Epoch 66/100\n",
      "1/1 [==============================] - 0s 6ms/step - loss: 0.4188 - acc: 1.0000\n",
      "Epoch 67/100\n",
      "1/1 [==============================] - 0s 6ms/step - loss: 0.4711 - acc: 1.0000\n",
      "Epoch 68/100\n",
      "1/1 [==============================] - 0s 6ms/step - loss: 0.4208 - acc: 1.0000\n",
      "Epoch 69/100\n",
      "1/1 [==============================] - 0s 5ms/step - loss: 0.4435 - acc: 1.0000\n",
      "Epoch 70/100\n",
      "1/1 [==============================] - 0s 5ms/step - loss: 0.4324 - acc: 1.0000\n",
      "Epoch 71/100\n",
      "1/1 [==============================] - 0s 5ms/step - loss: 0.4021 - acc: 1.0000\n",
      "Epoch 72/100\n",
      "1/1 [==============================] - 0s 5ms/step - loss: 0.3869 - acc: 1.0000\n",
      "Epoch 73/100\n",
      "1/1 [==============================] - 0s 5ms/step - loss: 0.4065 - acc: 1.0000\n",
      "Epoch 74/100\n",
      "1/1 [==============================] - 0s 5ms/step - loss: 0.4223 - acc: 0.9048\n",
      "Epoch 75/100\n",
      "1/1 [==============================] - 0s 6ms/step - loss: 0.3754 - acc: 1.0000\n",
      "Epoch 76/100\n",
      "1/1 [==============================] - 0s 5ms/step - loss: 0.4214 - acc: 1.0000\n",
      "Epoch 77/100\n",
      "1/1 [==============================] - 0s 5ms/step - loss: 0.3366 - acc: 1.0000\n",
      "Epoch 78/100\n",
      "1/1 [==============================] - 0s 4ms/step - loss: 0.2867 - acc: 1.0000\n",
      "Epoch 79/100\n",
      "1/1 [==============================] - 0s 5ms/step - loss: 0.3009 - acc: 1.0000\n",
      "Epoch 80/100\n",
      "1/1 [==============================] - 0s 5ms/step - loss: 0.2772 - acc: 1.0000\n",
      "Epoch 81/100\n",
      "1/1 [==============================] - 0s 5ms/step - loss: 0.3267 - acc: 1.0000\n",
      "Epoch 82/100\n",
      "1/1 [==============================] - 0s 5ms/step - loss: 0.2965 - acc: 1.0000\n",
      "Epoch 83/100\n",
      "1/1 [==============================] - 0s 4ms/step - loss: 0.3142 - acc: 1.0000\n",
      "Epoch 84/100\n",
      "1/1 [==============================] - 0s 4ms/step - loss: 0.2529 - acc: 1.0000\n",
      "Epoch 85/100\n",
      "1/1 [==============================] - 0s 5ms/step - loss: 0.2365 - acc: 1.0000\n",
      "Epoch 86/100\n",
      "1/1 [==============================] - 0s 4ms/step - loss: 0.2609 - acc: 1.0000\n",
      "Epoch 87/100\n",
      "1/1 [==============================] - 0s 5ms/step - loss: 0.2461 - acc: 1.0000\n",
      "Epoch 88/100\n",
      "1/1 [==============================] - 0s 6ms/step - loss: 0.2508 - acc: 1.0000\n",
      "Epoch 89/100\n",
      "1/1 [==============================] - 0s 5ms/step - loss: 0.2472 - acc: 1.0000\n",
      "Epoch 90/100\n",
      "1/1 [==============================] - 0s 4ms/step - loss: 0.2157 - acc: 1.0000\n",
      "Epoch 91/100\n",
      "1/1 [==============================] - 0s 5ms/step - loss: 0.1790 - acc: 1.0000\n",
      "Epoch 92/100\n",
      "1/1 [==============================] - 0s 4ms/step - loss: 0.2036 - acc: 1.0000\n",
      "Epoch 93/100\n",
      "1/1 [==============================] - 0s 4ms/step - loss: 0.1503 - acc: 1.0000\n",
      "Epoch 94/100\n",
      "1/1 [==============================] - 0s 4ms/step - loss: 0.1974 - acc: 0.9524\n",
      "Epoch 95/100\n",
      "1/1 [==============================] - 0s 5ms/step - loss: 0.1840 - acc: 1.0000\n",
      "Epoch 96/100\n",
      "1/1 [==============================] - 0s 4ms/step - loss: 0.1672 - acc: 1.0000\n",
      "Epoch 97/100\n",
      "1/1 [==============================] - 0s 4ms/step - loss: 0.2151 - acc: 1.0000\n",
      "Epoch 98/100\n",
      "1/1 [==============================] - 0s 4ms/step - loss: 0.1096 - acc: 1.0000\n",
      "Epoch 99/100\n",
      "1/1 [==============================] - 0s 5ms/step - loss: 0.1779 - acc: 1.0000\n",
      "Epoch 100/100\n",
      "1/1 [==============================] - 0s 6ms/step - loss: 0.1289 - acc: 1.0000\n"
     ]
    },
    {
     "output_type": "execute_result",
     "data": {
      "text/plain": [
       "<tensorflow.python.keras.callbacks.History at 0x1eca4777700>"
      ]
     },
     "metadata": {},
     "execution_count": 16
    }
   ],
   "metadata": {}
  },
  {
   "cell_type": "code",
   "execution_count": 4,
   "source": [
    "model.save(\"bot_V1.model\")"
   ],
   "outputs": [
    {
     "output_type": "error",
     "ename": "NameError",
     "evalue": "name 'model' is not defined",
     "traceback": [
      "\u001b[1;31m---------------------------------------------------------------------------\u001b[0m",
      "\u001b[1;31mNameError\u001b[0m                                 Traceback (most recent call last)",
      "\u001b[1;32m~\\AppData\\Local\\Temp/ipykernel_22744/1595772290.py\u001b[0m in \u001b[0;36m<module>\u001b[1;34m\u001b[0m\n\u001b[1;32m----> 1\u001b[1;33m \u001b[0mmodel\u001b[0m\u001b[1;33m.\u001b[0m\u001b[0msave\u001b[0m\u001b[1;33m(\u001b[0m\u001b[1;34m\"bot_V1.model\"\u001b[0m\u001b[1;33m)\u001b[0m\u001b[1;33m\u001b[0m\u001b[1;33m\u001b[0m\u001b[0m\n\u001b[0m",
      "\u001b[1;31mNameError\u001b[0m: name 'model' is not defined"
     ]
    }
   ],
   "metadata": {}
  },
  {
   "cell_type": "code",
   "execution_count": 79,
   "source": [
    "model = keras.models.load_model(\"bot_V1.model\")\r\n",
    "words = pickle.load(open(\"words.pkl\", \"rb\"))\r\n",
    "classes = pickle.load(open(\"classes.pkl\", \"rb\"))"
   ],
   "outputs": [],
   "metadata": {}
  },
  {
   "cell_type": "code",
   "execution_count": 80,
   "source": [
    "def preprocess(item):\r\n",
    "    tokens = nltk.word_tokenize(item)\r\n",
    "    tokens = [lematizer.lemmatize(word) for word in tokens]\r\n",
    "    return tokens\r\n",
    "\r\n",
    "def bag_of_words(sentence):\r\n",
    "    sentence_words = preprocess(sentence)\r\n",
    "    bag = [0] * len(words)\r\n",
    "    for w in sentence_words:\r\n",
    "        for i, word in enumerate(words):\r\n",
    "            if word == w:\r\n",
    "                bag[i] = 1\r\n",
    "    \r\n",
    "    return np.array(bag)\r\n"
   ],
   "outputs": [],
   "metadata": {}
  },
  {
   "cell_type": "code",
   "execution_count": 81,
   "source": [
    "def predict_class(sentence, tolerance=0.7):\r\n",
    "    bow = bag_of_words(sentence)\r\n",
    "    prediction = model(np.array([bow]))[0]\r\n",
    "    max_value = max(prediction).numpy()\r\n",
    "    res = np.where(prediction.numpy() == max_value)[0][0]\r\n",
    "    if max_value >= tolerance:\r\n",
    "        return res\r\n",
    "    else:\r\n",
    "        return -1"
   ],
   "outputs": [],
   "metadata": {}
  },
  {
   "cell_type": "code",
   "execution_count": 82,
   "source": [
    "predict_class(\"Hello how are you\")"
   ],
   "outputs": [
    {
     "output_type": "execute_result",
     "data": {
      "text/plain": [
       "0"
      ]
     },
     "metadata": {},
     "execution_count": 82
    }
   ],
   "metadata": {}
  },
  {
   "cell_type": "code",
   "execution_count": 83,
   "source": [
    "from chatbot import Chatbot"
   ],
   "outputs": [],
   "metadata": {}
  },
  {
   "cell_type": "code",
   "execution_count": 97,
   "source": [
    "class Chatbot:\r\n",
    "    def __init__(self, intent_bot_path, ner_bot_path=None, words_path=\"words.pkl\", classes_path=\"classes.pkl\", intents_path=\"intents.json\"):\r\n",
    "        print(\"loading models\")\r\n",
    "        self.intent_classifier = keras.models.load_model(intent_bot_path)\r\n",
    "        # load the ner bot \r\n",
    "        self.words = pickle.load(open(words_path, \"rb\"))\r\n",
    "        self.classes = pickle.load(open(classes_path, \"rb\"))\r\n",
    "        self.intents = json.load(open(intents_path, \"r\"))[\"intents\"]\r\n",
    "        self.lemmatizer = WordNetLemmatizer()\r\n",
    "        print(\"models loaded\")\r\n",
    "    \r\n",
    "    def preprocess(self, item):\r\n",
    "        tokens = nltk.word_tokenize(item)\r\n",
    "        tokens = [self.lemmatizer.lemmatize(word) for word in tokens]\r\n",
    "        return tokens\r\n",
    "\r\n",
    "    def bag_of_words(self, sentence):\r\n",
    "        sentence_words = self.preprocess(sentence)\r\n",
    "        bag = [0] * len(self.words)\r\n",
    "        for w in sentence_words:\r\n",
    "            for i, word in enumerate(self.words):\r\n",
    "                if word == w:\r\n",
    "                    bag[i] = 1\r\n",
    "        \r\n",
    "        return np.array(bag)\r\n",
    "\r\n",
    "    def predict_intent(self, sentence, tolerance=0.5):\r\n",
    "        bow = self.bag_of_words(sentence)\r\n",
    "        prediction = self.intent_classifier(np.array([bow]))[0]\r\n",
    "        max_value = max(prediction).numpy()\r\n",
    "        res = np.where(prediction.numpy() == max_value)[0][0]\r\n",
    "        return self.intents[res][\"tag\"]"
   ],
   "outputs": [],
   "metadata": {}
  },
  {
   "cell_type": "code",
   "execution_count": 98,
   "source": [
    "bot = Chatbot(\"bot_V1.model\")"
   ],
   "outputs": [
    {
     "output_type": "stream",
     "name": "stdout",
     "text": [
      "loading models\n",
      "models loaded\n"
     ]
    }
   ],
   "metadata": {}
  },
  {
   "cell_type": "code",
   "execution_count": 99,
   "source": [
    "bot.predict_intent(\"I wish to buy something\")"
   ],
   "outputs": [
    {
     "output_type": "execute_result",
     "data": {
      "text/plain": [
       "'shop'"
      ]
     },
     "metadata": {},
     "execution_count": 99
    }
   ],
   "metadata": {}
  },
  {
   "cell_type": "code",
   "execution_count": null,
   "source": [],
   "outputs": [],
   "metadata": {}
  }
 ],
 "metadata": {
  "orig_nbformat": 4,
  "language_info": {
   "name": "python",
   "version": "3.8.7",
   "mimetype": "text/x-python",
   "codemirror_mode": {
    "name": "ipython",
    "version": 3
   },
   "pygments_lexer": "ipython3",
   "nbconvert_exporter": "python",
   "file_extension": ".py"
  },
  "kernelspec": {
   "name": "python3",
   "display_name": "Python 3.8.7 64-bit"
  },
  "interpreter": {
   "hash": "94edbaacddaafd6d45ba5506bea1ce8a371c01e0c71d6cc8e1f8803236d6de55"
  }
 },
 "nbformat": 4,
 "nbformat_minor": 2
}